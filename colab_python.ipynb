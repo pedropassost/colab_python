{
  "cells": [
    {
      "cell_type": "markdown",
      "metadata": {
        "id": "view-in-github",
        "colab_type": "text"
      },
      "source": [
        "<a href=\"https://colab.research.google.com/github/pedropassost/colab_python/blob/main/colab_python.ipynb\" target=\"_parent\"><img src=\"https://colab.research.google.com/assets/colab-badge.svg\" alt=\"Open In Colab\"/></a>"
      ]
    },
    {
      "cell_type": "markdown",
      "metadata": {
        "id": "-quer1zIpkN3"
      },
      "source": [
        "> # **`Programação de Computadores`**\n",
        "> ###  **Ciência da Computação - 1º semestre**\n",
        "---\n",
        "---"
      ]
    },
    {
      "cell_type": "markdown",
      "metadata": {
        "id": "LEcXUzwF8SoZ"
      },
      "source": [
        "> # **Estrutura Lógica Sequencial**\n",
        "---\n",
        "---"
      ]
    },
    {
      "cell_type": "markdown",
      "metadata": {
        "id": "P_ZToqCH81Ps"
      },
      "source": [
        "> ## **Variável**: armazena dados (memória RAM do computador).\n",
        "\n",
        "- ### Nomes (identificadores) para variáveis:\n",
        "    - ### Início com `letra` (maiúscula ou minúscula) ou `_`, seguido ou não de `letras`, `dígitos` ou `_`.\n",
        "    - ### Exemplos:\n",
        "        - ### `a`, `A`, `a123`, `area`, `nome_cliente`, `_contador`, `EnderecoCliente` ..."
      ]
    },
    {
      "cell_type": "markdown",
      "metadata": {
        "id": "pzQ8Gjo2ZE2r"
      },
      "source": [
        "> ## **Algoritmo**: sequência finita de passos que soluciona um determinado problema.\n",
        "\n",
        "- ### Mais informações sobre algoritmos, consulte o livro: Fundamentos da Programação de Computadores (Ascêncio, Ana; Campos, Edilene)."
      ]
    },
    {
      "cell_type": "markdown",
      "metadata": {
        "id": "56eHO996FFHc"
      },
      "source": [
        "> ### **Exemplo**: cálculo da área de um retângulo.\n",
        "\n",
        "- #### area = lado1 . lado2\n",
        "\n",
        "\n",
        "    Algoritmo Area_Retangulo\n",
        "    Declare area, lado1, lado2: numérico\n",
        "    início\n",
        "        leia lado1, lado2\n",
        "        area = lado1 * lado2\n",
        "        escreva area\n",
        "    fim"
      ]
    },
    {
      "cell_type": "code",
      "execution_count": null,
      "metadata": {
        "id": "pRW35Wh6_ECr"
      },
      "outputs": [],
      "source": [
        "# Programa para calcular a área de um retângulo\n",
        "\n",
        "lado1 = float(input('Lado 1 (m): '))\n",
        "lado2 = float(input('\\nLado 2 (m): '))\n",
        "area = lado1 * lado2\n",
        "print(f'\\nÁrea do retângulo = {lado1:.3f} x {lado2:.3f} = {area:.3f} m²')"
      ]
    },
    {
      "cell_type": "markdown",
      "metadata": {
        "id": "y9CaAz3N7kxC"
      },
      "source": [
        "> ## **Operadores matemáticos:**\n",
        "---\n",
        "\n",
        "- ## `+` : soma.\n",
        "- ## `-` : subtração.\n",
        "- ## `*` : multiplicação (produto).\n",
        "- ## `/` : divisão.\n",
        "- ## `**` : potência.\n",
        "- ## `//` : quociente da divisão entre 2 números.\n",
        "- ## `%` : resto da divisão entre 2 números.\n",
        "\n",
        "> ### **Prioridade**: `**`, `* / % //` e, por último, `+ -`.\n",
        "Operações de mesma prioridade são executadas da esquerda para a direita, com exceção da potência que é executada da direita para a esquerda."
      ]
    },
    {
      "cell_type": "code",
      "execution_count": null,
      "metadata": {
        "colab": {
          "base_uri": "https://localhost:8080/"
        },
        "id": "nMt32jZG9KKX",
        "outputId": "8f2d5f35-3885-46ac-80a5-bc1517a2d28f"
      },
      "outputs": [
        {
          "name": "stdout",
          "output_type": "stream",
          "text": [
            "Soma = 8\n",
            "Subtração = 2\n",
            "Multiplicação = 42\n",
            "Divisão = 4.5\n",
            "Potência = 1024\n",
            "Quociente = 2\n",
            "Resto = 1\n"
          ]
        }
      ],
      "source": [
        "# Exemplo de cálculos com os operadores matemáticos\n",
        "\n",
        "print('Soma =', 5 + 3)\n",
        "print('Subtração =', 10 - 8)\n",
        "print('Multiplicação =', 6 * 7)\n",
        "print('Divisão =', 9 / 2)\n",
        "print('Potência =', 2 ** 10)\n",
        "print('Quociente =', 5 // 2)\n",
        "print('Resto =', 5 % 2)"
      ]
    },
    {
      "cell_type": "markdown",
      "metadata": {
        "id": "cHxLnkWtSn4l"
      },
      "source": [
        "> ## **Exercícios:**\n",
        "---\n",
        "---"
      ]
    },
    {
      "cell_type": "markdown",
      "metadata": {
        "id": "6oxImPP2S-Nn"
      },
      "source": [
        "> ### `1.` Criar um programa para ler `3 notas` (0 a 10) e, após as leituras, calcular e mostrar a média aritmética das notas."
      ]
    },
    {
      "cell_type": "code",
      "execution_count": null,
      "metadata": {
        "colab": {
          "base_uri": "https://localhost:8080/"
        },
        "id": "BYzklTdxsCNm",
        "outputId": "1124ce09-2096-4346-bfd1-0066d377ed72"
      },
      "outputs": [
        {
          "name": "stdout",
          "output_type": "stream",
          "text": [
            "Nota 1 (0 a 10): 5\n",
            "\n",
            "Nota 2 (0 a 10): 6\n",
            "\n",
            "Nota 3 (0 a 10): 7\n",
            "\n",
            "Média aritmética = 6.0\n"
          ]
        }
      ],
      "source": [
        "n1 = float(input('Nota 1 (0 a 10): '))\n",
        "n2 = float(input('\\nNota 2 (0 a 10): '))\n",
        "n3 = float(input('\\nNota 3 (0 a 10): '))\n",
        "ma = (n1 + n2 + n3) / 3\n",
        "print(f'\\nMédia aritmética = {ma}')"
      ]
    },
    {
      "cell_type": "markdown",
      "metadata": {
        "id": "qSt2fZRKTZl3"
      },
      "source": [
        "> ### `2.` Criar um programa para ler o `raio` (m) de um círculo e, após a leitura, calcular e mostrar:\n",
        "- ### comp = 2 . PI . raio\n",
        "- ### area = PI . raio²\n",
        "\n",
        "### **OBS.**: PI = 3.14"
      ]
    },
    {
      "cell_type": "code",
      "execution_count": null,
      "metadata": {
        "colab": {
          "base_uri": "https://localhost:8080/"
        },
        "id": "1qoShbKB_DEv",
        "outputId": "05d14191-fd00-4620-bf1f-a9866cb19e11"
      },
      "outputs": [
        {
          "name": "stdout",
          "output_type": "stream",
          "text": [
            "Raio do círculo (m): 1\n",
            "\n",
            "Comprimento do círculo = 6.28 m\n",
            "\n",
            "Área do círculo = 3.14 m²\n"
          ]
        }
      ],
      "source": [
        "r = float(input('Raio do círculo (m): '))\n",
        "c = 2 * 3.14 * r\n",
        "a = 3.14 * r ** 2\n",
        "print(f'\\nComprimento do círculo = {c:.2f} m')\n",
        "print(f'\\nÁrea do círculo = {a:.2f} m²')"
      ]
    },
    {
      "cell_type": "markdown",
      "metadata": {
        "id": "dkU3BYGwGxeA"
      },
      "source": [
        "> ### `Outra forma`: valor de PI do módulo (biblioteca) `math`."
      ]
    },
    {
      "cell_type": "code",
      "execution_count": null,
      "metadata": {
        "colab": {
          "base_uri": "https://localhost:8080/"
        },
        "id": "cII3_JlzJEEW",
        "outputId": "1fa7935f-eff3-426b-99d5-d26aa946dfa6"
      },
      "outputs": [
        {
          "name": "stdout",
          "output_type": "stream",
          "text": [
            "Raio do círculo (m): 1\n",
            "\n",
            "Comprimento do círculo = 6.28 m\n",
            "\n",
            "Área do círculo = 3.14 m²\n"
          ]
        }
      ],
      "source": [
        "# import math : importa todas as funções e constantes do módulo math\n",
        "from math import pi # importa apenas o pi\n",
        "\n",
        "r = float(input('Raio do círculo (m): '))\n",
        "c = 2 * pi * r\n",
        "a = pi * r ** 2\n",
        "print(f'\\nComprimento do círculo = {c:.2f} m')\n",
        "print(f'\\nÁrea do círculo = {a:.2f} m²')"
      ]
    },
    {
      "cell_type": "markdown",
      "metadata": {
        "id": "liTTJu6KLgNT"
      },
      "source": [
        "> ### `3.` Criar um programa para ler o `preço` de um produto e, após a leitura, calcular e mostrar o valor do produto após um desconto de 7% e o valor do produto após um aumento de 5,5%."
      ]
    },
    {
      "cell_type": "code",
      "execution_count": null,
      "metadata": {
        "colab": {
          "base_uri": "https://localhost:8080/"
        },
        "id": "h3wfC9qds7Qq",
        "outputId": "1827f83c-e496-4af6-8667-a8a16b2c93fc"
      },
      "outputs": [
        {
          "name": "stdout",
          "output_type": "stream",
          "text": [
            "Preço do produto: R$ 100\n",
            "\n",
            "Preço com desconto de 7% = R$ 93.00\n",
            "\n",
            "Preço com aumento de 5,5% = R$ 105.50\n"
          ]
        }
      ],
      "source": [
        "p = float(input('Preço do produto: R$ '))\n",
        "pd = p - 7 / 100 * p\n",
        "pa = p + 5.5 / 100 * p\n",
        "print(f'\\nPreço com desconto de 7% = R$ {pd:.2f}')\n",
        "print(f'\\nPreço com aumento de 5,5% = R$ {pa:.2f}')"
      ]
    },
    {
      "cell_type": "markdown",
      "metadata": {
        "id": "6K2BApfIN3Va"
      },
      "source": [
        "> ### `4.` Criar um programa para calcular e mostrar a média ponderada entre 2 notas. As `notas` e seus respectivos `pesos` devem ser fornecidos pelo usuário no início do programa.\n",
        "### Fórmula:\n",
        "### $mp = {n1.p1 + n2.p2 \\over p1+p2}$"
      ]
    },
    {
      "cell_type": "markdown",
      "metadata": {
        "id": "xIaK6uOMPLNK"
      },
      "source": [
        "> ### `5.` Uma empresa paga aos seus funcionários um salário fixo mais uma comissão de 7,5% sobre as vendas realizadas por cada funcionário. Sabendo disso, criar um programa para ler o `salário fixo` e o `valor das vendas` de um funcionário e, após as leituras, calcular e mostrar a comissão sobre as vendas e o salário final desse funcionário."
      ]
    },
    {
      "cell_type": "code",
      "execution_count": null,
      "metadata": {
        "colab": {
          "base_uri": "https://localhost:8080/"
        },
        "id": "yl0h9-AFa6sT",
        "outputId": "15c0ce70-2905-4515-8b38-ebd26e4221f1"
      },
      "outputs": [
        {
          "output_type": "stream",
          "name": "stdout",
          "text": [
            "Salário fixo: R$ 2500\n",
            "\n",
            "Total de vendas: R$ 20000\n",
            "\n",
            "Comissão sobre as vendas (7,5%) = R$ 1500.00\n",
            "\n",
            "Salário final = R$ 2500.00 + R$ 1500.00 = R$ 4000.00\n"
          ]
        }
      ],
      "source": [
        "fixo = float(input('Salário fixo: R$ '))\n",
        "vendas = float(input('\\nTotal de vendas: R$ '))\n",
        "com = 7.5 / 100 * vendas\n",
        "final = fixo + com\n",
        "print(f'\\nComissão sobre as vendas (7,5%) = R$ {com:.2f}')\n",
        "print(f'\\nSalário final = R$ {fixo:.2f} + R$ {com:.2f} = R$ {final:.2f}')"
      ]
    },
    {
      "cell_type": "markdown",
      "metadata": {
        "id": "XQtu4pLVUU9y"
      },
      "source": [
        "> ### `6.` Criar um programa para ler os valores dos `catetos` de um triângulo retângulo e, após a leitura, calcular e mostrar o valor da hipotenusa.\n",
        "### `Obs.`: use Pitágoras para calcular.\n",
        "### $h = \\sqrt{ca^2 + cb^2}$"
      ]
    },
    {
      "cell_type": "code",
      "execution_count": null,
      "metadata": {
        "id": "mro9WicGcWi0"
      },
      "outputs": [],
      "source": [
        "  import math\n",
        "cateto1 = float(input('Digite o valor do primeiro cateto: '))\n",
        "cateto2 = float(input('/nDigite o valor do primeiro cateto: '))\n",
        "\n",
        "h = (cateto1 ** 2 + cateto2 ** 2)\n",
        "raiz = math.sqrt(h)\n",
        "\n",
        "print(f'\\nValor da hipotenusa {raiz:.1f}')\n"
      ]
    },
    {
      "cell_type": "markdown",
      "metadata": {
        "id": "NIrxGjsWHO65"
      },
      "source": [
        "> ### `7.` Uma escada está apoiada no chão formando um ângulo `a` e há uma distância `d` da parede. A parede forma um ângulo de 90º com o chão. Sabendo disso, criar um programa para ler os valores de `a` (graus) e `d` (metros), calcular e mostrar o comprimento da escada (`c`).\n",
        "\n",
        "    |\\\n",
        "    | \\\n",
        "    |  \\\n",
        "    |   \\                      d\n",
        "    |    \\ c         cos a = -----  ->  c = d / cos a\n",
        "    |     \\                    c\n",
        "    |      \\\n",
        "    |_      \\\n",
        "    |.|    a \\\n",
        "    -----------\n",
        "         d\n"
      ]
    },
    {
      "cell_type": "code",
      "source": [
        "from math import cos, radians\n",
        "\n",
        "a = float(input('Ângulo (graus): '))\n",
        "d = float(input('\\nDistância (m): '))\n",
        "c = d / cos(radians(a))\n",
        "print(f'\\nComprimento da escada = {c:.1f} m')"
      ],
      "metadata": {
        "colab": {
          "base_uri": "https://localhost:8080/"
        },
        "id": "o4MQLxY38VTf",
        "outputId": "d2aa43cb-864e-4911-cca8-5b973cfd1e99"
      },
      "execution_count": null,
      "outputs": [
        {
          "output_type": "stream",
          "name": "stdout",
          "text": [
            "Ângulo (graus): 60\n",
            "\n",
            "Distância (m): 2\n",
            "\n",
            "Comprimento da escada = 4.0 m\n"
          ]
        }
      ]
    },
    {
      "cell_type": "markdown",
      "metadata": {
        "id": "EHOVAyMEN4fX"
      },
      "source": [
        "> ### `8.` Criar um programa para ler uma certa quantidade de `dias`, `horas`, `minutos` e `segundos` (o usuário fornece). Após as leituras, calcular e mostrar a qtde total de segundos contidos nesses valores."
      ]
    },
    {
      "cell_type": "code",
      "source": [
        "Dias = float(input('Digite os Dias: '))\n",
        "Horas = float(input('\\nDigite as horas: '))\n",
        "Minutos = float(input('\\nDigite os minutos: '))\n",
        "Segundos = float(input('\\nDigite os segundos: '))\n",
        "\n",
        "# Um minuto tem 60 segundos\n",
        "# Uma hora tem 3600 (60 * 60) segundos\n",
        "# Um dia tem 24 horas, logo 24 * 3600 segundos\n",
        "total_em_segundos = Dias * 24 * 3600 + Horas * 3600 + Minutos * 60 + Segundos\n",
        "\n",
        "\n",
        "print(\"Total de segundos: %10d segundos.\"% total_em_segundos)\n"
      ],
      "metadata": {
        "colab": {
          "base_uri": "https://localhost:8080/"
        },
        "outputId": "b221eb85-5912-4a82-8b9e-da3b48760cae",
        "id": "ju7p9-ZNuW85"
      },
      "execution_count": null,
      "outputs": [
        {
          "output_type": "stream",
          "name": "stdout",
          "text": [
            "Digite os Dias: 1\n",
            "\n",
            "Digite as horas: 1\n",
            "\n",
            "Digite os minutos: 1\n",
            "\n",
            "Digite os segundos: 1\n",
            "Total de segundos:      90061 segundos.\n"
          ]
        }
      ]
    },
    {
      "cell_type": "code",
      "source": [
        "d = int(input('Dias: '))\n",
        "h = int(input('\\nHoras: '))\n",
        "m = int(input('\\nMinutos: '))\n",
        "s = int(input('\\nSegundos: '))\n",
        "ts = s + m * 60 + h * 60 * 60 + d * 24 * 60 * 60"
      ],
      "metadata": {
        "colab": {
          "base_uri": "https://localhost:8080/"
        },
        "outputId": "39ab4910-432f-48fe-e92a-1887e589f818",
        "id": "HhMmYBUaWMIZ"
      },
      "execution_count": null,
      "outputs": [
        {
          "output_type": "stream",
          "name": "stdout",
          "text": [
            "Dias: 1\n",
            "\n",
            "Horas: 1\n",
            "\n",
            "Minutos: 1\n",
            "\n",
            "Segundos: 1\n",
            "\n",
            "Total de segundos = 90061\n"
          ]
        }
      ]
    },
    {
      "cell_type": "markdown",
      "metadata": {
        "id": "zqwaq3cdO7wp"
      },
      "source": [
        "> ### `9.` Criar um programa para ler o `tamanho` de um arquivo em GBytes e a `velocidade` de download de uma rede em Mbits por segundo. Após as leituras, calcular e mostrar o tempo gasto (minutos e segundos) para transferir o arquivo pela rede.\n",
        "- ### 1 Byte = 8 bits\n",
        "- ### 1 GByte = 1024 MBytes\n",
        "### **Testes para validação do cálculo:**\n",
        "- ### `Tamanho`: 1 GB ; `Velocidade`: 300 Mb/s ; `Resultado`: 0 min e 27 seg\n",
        "- ### `Tamanho`: 30 GB ; `Velocidade`: 100 Mb/s ; `Resultado`: 40 min e 57 seg\n"
      ]
    },
    {
      "cell_type": "code",
      "source": [
        "GByte = float(input('Tamanho do arquivo: '))\n",
        "Horas = float(input('\\nVelocidade da rede: '))\n",
        "\n",
        "# Converte o tamanho do arquivo de GB para MB\n",
        "# GB ** 1024 = MB\n",
        "# MB ** 8 = Byte\n",
        "# Converte a velocidade de download da rede de Mbps para MB/s\n",
        "# Calcula o tempo de transferência em segundos\n",
        "# Converte o tempo de segundos para minutos e segundos\n",
        "# Segundos % 60\n",
        "\n",
        "int(tempo_segundos // 60)\n",
        "int(tempo_segundos % 60)\n",
        "print('Tempo estimado para transferência: {} minutos e {} segundos'.format(tempo_minutos, tempo_segundos))"
      ],
      "metadata": {
        "id": "hiBPlgpnMG2T"
      },
      "execution_count": null,
      "outputs": []
    },
    {
      "cell_type": "code",
      "source": [
        "tam = int(input('Tamanho do arquivo (GByte): '))\n",
        "vel = int(input('\\nVelocidade da rede (Mbit/s): '))\n",
        "tamanho_mb = tamanho * 1024 * 8 # converte o tamanho em Mbit\n",
        "ts = tam_mb // vel # tempo em segundos (apenas o valor inteiro para descartar os décimos de seg)\n",
        "tm = ts // 60 # calcula os minutos\n",
        "ts %= 60 # calcula os segundos que restaram (ts = ts % 60)"
      ],
      "metadata": {
        "id": "wSoQAPuaadae"
      },
      "execution_count": null,
      "outputs": []
    },
    {
      "cell_type": "markdown",
      "source": [
        "> ### `10.` Criar um programa para ler uma qtde qualquer de `segundos` e converter para **dias**, **horas**, **minutos** e **segundos** restantes."
      ],
      "metadata": {
        "id": "t40zHEic40vb"
      }
    },
    {
      "cell_type": "code",
      "source": [
        "total_segundos = float(input('Digite os segundos: '))\n",
        "d = 86400 # segundos\n",
        "h = 3600 # segundos\n",
        "m = 60 # segundos\n",
        "total_dias = 86400 // 60  # total de horas\n",
        "total_horas = 3600 // 60  # total de minutos\n",
        "total_minutos = 60 // 60  # total de segundos\n",
        "\n",
        "print(f'\\n{total_dias:.1f} Total de dias:')\n",
        "print(f'\\n{total_horas:.1f} Total de horas:')\n",
        "print(f'\\n{total_minutos:.1f} Total de minutos:')\n",
        "print(f'\\n{total_segundos:.1f} Total de segundos:')"
      ],
      "metadata": {
        "id": "7pIujk1acNk_",
        "colab": {
          "base_uri": "https://localhost:8080/"
        },
        "outputId": "9e5c4012-9c27-44f3-eecb-46c6c30aa15f"
      },
      "execution_count": null,
      "outputs": [
        {
          "output_type": "stream",
          "name": "stdout",
          "text": [
            "Digite os segundos: 1\n",
            "\n",
            "1440.0 Total de dias:\n",
            "\n",
            "60.0 Total de horas:\n",
            "\n",
            "1.0 Total de minutos:\n",
            "\n",
            "1.0 Total de segundos:\n"
          ]
        }
      ]
    },
    {
      "cell_type": "code",
      "source": [
        "s = int(input('Digite os segundos: '))\n",
        "m = s // 60\n",
        "s %= 60\n",
        "h = m // 60\n",
        "m %= 60\n",
        "d = h // 24\n",
        "h %= 24\n",
        "me = d // 30\n",
        "d %= 30\n",
        "a = m // 12\n",
        "me %= 12\n",
        "de = a // 10\n",
        "a %= 10\n",
        "print(d, h, m, s)\n"
      ],
      "metadata": {
        "colab": {
          "base_uri": "https://localhost:8080/"
        },
        "id": "Za1CQHdNo03c",
        "outputId": "a1694cc7-3b80-4026-dd68-df0ebd690c21"
      },
      "execution_count": null,
      "outputs": [
        {
          "output_type": "stream",
          "name": "stdout",
          "text": [
            "Digite os segundos: 90061\n",
            "0 0 0 1 1 1 1\n"
          ]
        }
      ]
    },
    {
      "cell_type": "markdown",
      "metadata": {
        "id": "hijP9Q12HNJW"
      },
      "source": [
        "> # **Estrutura Lógica Condicional**\n",
        "---\n",
        "---"
      ]
    },
    {
      "cell_type": "markdown",
      "metadata": {
        "id": "PL-G_qmOJzyz"
      },
      "source": [
        "> ## **Algoritmo** (Livro: Fundamentos da Programação de Computadores):\n",
        "---\n",
        "\n",
        "    se ? então     SIMPLES        ? : condição\n",
        "    início\n",
        "        ...   VERDADEIRO\n",
        "    fim\n",
        "\n",
        "    se ? então     COMPOSTO       ? : condição\n",
        "    início\n",
        "        ...   VERDADEIRO\n",
        "    fim\n",
        "    senão\n",
        "    início\n",
        "        ...   FALSO\n",
        "    fim"
      ]
    },
    {
      "cell_type": "markdown",
      "metadata": {
        "id": "E80HoQzlKQ1Q"
      },
      "source": [
        " > ## **Linguagem `Python`:** o deslocamento para direita (Tab) inicia um bloco de comandos e o retorno para a coluna à esquerda finaliza o bloco.\n",
        " ---\n",
        "\n",
        "    if ?:       >> Comando condicional SIMPLES\n",
        "        ...\n",
        "        ...\n",
        "\n",
        "    if ?:       >> Comando condicional COMPOSTO\n",
        "        ...\n",
        "        ...\n",
        "    else:\n",
        "        ...\n",
        "        ...\n",
        "\n",
        "\n",
        "> ### `?` : condição (V ou F)."
      ]
    },
    {
      "cell_type": "markdown",
      "metadata": {
        "id": "UNXFis5JOmwU"
      },
      "source": [
        "> ## **`Condição` (`?`):**\n",
        "---\n",
        "- ## Expressão que resulta sempre em **V** ou **F** (True ou False)."
      ]
    },
    {
      "cell_type": "markdown",
      "metadata": {
        "id": "cH22o2Y1Pe7L"
      },
      "source": [
        "> ## **Operadores relacionais:**\n",
        "---\n",
        "\n",
        "- ## Algoritmo: < <= > >= = <> (diferente).\n",
        "- ## Python: `<` `<=` `>` `>=` `==` `!=`"
      ]
    },
    {
      "cell_type": "markdown",
      "metadata": {
        "id": "RRA49rGMQury"
      },
      "source": [
        "> ### **Exemplos:**\n",
        "\n",
        "### `a == 0`\n",
        "### `nota >= 6`\n",
        "### `salario != 5000.0`\n",
        "### `x < 0`\n",
        "### `sqrt(w) >= 10 - y`\n"
      ]
    },
    {
      "cell_type": "markdown",
      "metadata": {
        "id": "k6_Qh36ERwzV"
      },
      "source": [
        "> ## **Operadores Lógicos:**\n",
        "---\n",
        "\n",
        "- ### Condições compostas: duas ou mais condições simples.\n",
        "\n",
        "- ## Algoritmo: e ou não (negação)\n",
        "- ## Python: `and` `or` `not`"
      ]
    },
    {
      "cell_type": "markdown",
      "metadata": {
        "id": "qzDV85e5Tah0"
      },
      "source": [
        "> ## Tabela Verdade - `and`\n",
        "---\n",
        "Condição 1 | Condição 2 | `AND`\n",
        "- | - | -\n",
        "F | F | F\n",
        "F | V | F\n",
        "V | F | F\n",
        "V | V | V"
      ]
    },
    {
      "cell_type": "markdown",
      "metadata": {
        "id": "upPXJyjJUUJJ"
      },
      "source": [
        "> ## Tabela Verdade - `or`\n",
        "---\n",
        "Condição 1 | Condição 2 | `OR`\n",
        "- | - | -\n",
        "F | F | F\n",
        "F | V | V\n",
        "V | F | V\n",
        "V | V | V"
      ]
    },
    {
      "cell_type": "markdown",
      "metadata": {
        "id": "2c3W340eUtZg"
      },
      "source": [
        "> ## Tabela Verdade - `not`\n",
        "---\n",
        "Condição | `NOT`\n",
        "- | -\n",
        "F | V\n",
        "V | F\n"
      ]
    },
    {
      "cell_type": "markdown",
      "metadata": {
        "id": "HPCcTAYPVGRB"
      },
      "source": [
        "> ### **Exemplos:**\n",
        "\n",
        "### `a >= 0 and a <= 10`\n",
        "### `a < 0 or a > 10`\n",
        "### `not (a >= 0 and a <= 10)`\n",
        "### `not (a < 0 and (x != 2 or d == -1) and nota != 10)`"
      ]
    },
    {
      "cell_type": "markdown",
      "metadata": {
        "id": "k6wOcJ7wWrLc"
      },
      "source": [
        "> ## **Prioridade (ou precedência) de Operadores:**\n",
        "\n",
        "[https://www.inf.pucrs.br/flash/algfis/aulas/selecao/build/selecao/PrecedenceofOperators.html](https://www.inf.pucrs.br/flash/algfis/aulas/selecao/build/selecao/PrecedenceofOperators.html)\n"
      ]
    },
    {
      "cell_type": "markdown",
      "metadata": {
        "id": "w5TmTOMFZtOr"
      },
      "source": [
        "> ## **Exercícios:**\n",
        "---\n",
        "---"
      ]
    },
    {
      "cell_type": "markdown",
      "metadata": {
        "id": "hq3ZRq2YaGQo"
      },
      "source": [
        "> ### `1.` Criar um programa para ler `2 notas`, calcular e mostrar a média aritmética e informar se o aluno foi aprovado ou reprovado (média mínima = 6.0). Mostrar também uma mensagem de 'Parabéns!', caso ele tenha uma média igual a 10."
      ]
    },
    {
      "cell_type": "code",
      "metadata": {
        "colab": {
          "base_uri": "https://localhost:8080/"
        },
        "id": "RAgU7Ngxbhr1",
        "outputId": "4cd18fcd-f1a0-4c47-9c0b-2099a7e3286a"
      },
      "source": [
        "n1 = float(input('Nota 1 (0 a 10): '))\n",
        "n2 = float(input('\\nNota 2 (0 a 10): '))\n",
        "ma = (n1 + n2) / 2\n",
        "print(f'\\nMédia final = {ma:.1f}')\n",
        "\n",
        "if ma >= 6:\n",
        "    print('\\nAPROVADO!!!', end='') # end='' impede que o print vá para a próxima linha\n",
        "    if ma == 10:\n",
        "        print('  PARABÉNS!!!')\n",
        "else:\n",
        "    print('CnREPROVADO!!!')"
      ],
      "execution_count": null,
      "outputs": [
        {
          "output_type": "stream",
          "name": "stdout",
          "text": [
            "Nota 1 (0 a 10): 8\n",
            "\n",
            "Nota 2 (0 a 10): 9\n",
            "\n",
            "Média final = 8.5\n",
            "\n",
            "APROVADO!!!Quase\n"
          ]
        }
      ]
    },
    {
      "cell_type": "markdown",
      "metadata": {
        "id": "W8A1MoY0NuNz"
      },
      "source": [
        "> ### `2.` Criar um programa para ler `3 valores` inteiros e, após as leituras, mostrar o menor e o maior valor entre os 3."
      ]
    },
    {
      "cell_type": "code",
      "source": [],
      "metadata": {
        "id": "1FMJ4QZa8M_X",
        "colab": {
          "base_uri": "https://localhost:8080/",
          "height": 130
        },
        "outputId": "fb757125-dcc3-47cf-824a-5c95c2a15a5b"
      },
      "execution_count": null,
      "outputs": [
        {
          "output_type": "error",
          "ename": "SyntaxError",
          "evalue": "ignored",
          "traceback": [
            "\u001b[0;36m  File \u001b[0;32m\"<ipython-input-1-c305c7307612>\"\u001b[0;36m, line \u001b[0;32m4\u001b[0m\n\u001b[0;31m    if num > maior\u001b[0m\n\u001b[0m                  ^\u001b[0m\n\u001b[0;31mSyntaxError\u001b[0m\u001b[0;31m:\u001b[0m invalid syntax\n"
          ]
        }
      ]
    },
    {
      "cell_type": "code",
      "source": [
        "a = int(input('Valor de A: '))\n",
        "b = int(input('\\nValor de B: '))\n",
        "c = int(input('\\nValor de C: '))\n",
        "\n",
        "if a < b and a < c:\n",
        "    me = a\n",
        "elif b < c:\n",
        "    me = b\n",
        "else:\n",
        "    me = c\n",
        "\n",
        "if a > b and a > c:\n",
        "    ma = a\n",
        "elif b > c:\n",
        "    ma = b\n",
        "else:\n",
        "    ma = c\n",
        "\n",
        "print(f'\\nMenor = {me}  ;  Maior = {ma}')"
      ],
      "metadata": {
        "colab": {
          "base_uri": "https://localhost:8080/"
        },
        "outputId": "601d8efd-13b4-4aad-f8f2-b2f206daf910",
        "id": "vKGRTTdHuUIo"
      },
      "execution_count": null,
      "outputs": [
        {
          "output_type": "stream",
          "name": "stdout",
          "text": [
            "Valor de A: 3\n",
            "\n",
            "Valor de B: 1\n",
            "\n",
            "Valor de C: 2\n",
            "\n",
            "Menor = 1  ;  Maior = 3\n"
          ]
        }
      ]
    },
    {
      "cell_type": "markdown",
      "metadata": {
        "id": "CF1cTk6--Sko"
      },
      "source": [
        "> ### `3.` Criar um programa para ler `3 valores` inteiros e, após as leituras, mostrar o menor e o maior valor digitado pelo usuário, seguindo as regras:\n",
        "\n",
        "- ### Usar apenas 2 `if`'s (NÃO pode usar `else`, `elif` e o operador `and`). 2 para o menor e 2 para o maior."
      ]
    },
    {
      "cell_type": "code",
      "source": [
        "a = int(input('Valor de A: '))\n",
        "b = int(input('\\nValor de B: '))\n",
        "c = int(input('\\nValor de C: '))\n",
        "\n",
        "me = a\n",
        "if b < me:\n",
        "    me = b\n",
        "if c < me:\n",
        "    me = c\n",
        "\n",
        "ma = a\n",
        "if b > ma:\n",
        "    ma = b\n",
        "if c > ma:\n",
        "    ma = c\n",
        "\n",
        "print(f'\\nMenor = {me}  ;  Maior = {ma}')"
      ],
      "metadata": {
        "id": "GaHIQqGk8Nx9"
      },
      "execution_count": null,
      "outputs": []
    },
    {
      "cell_type": "markdown",
      "metadata": {
        "id": "uuN-VaRrapWf"
      },
      "source": [
        "> ### `4.` Criar um programa para ler um número inteiro qualquer e, após a leitura, mostrar se o número é PAR ou ÍMPAR."
      ]
    },
    {
      "cell_type": "code",
      "source": [
        "num = int(input('Numero: '))\n",
        "\n",
        "if num % 2 == 0: # verificar se num é multiplo de 2 (resto da divisão por 2 ímpar)\n",
        "    print(f'\\n{num} é par!')\n",
        "else:\n",
        "    print(f'\\n{num} é ímpar!')\n"
      ],
      "metadata": {
        "id": "mdnfnuSbtoAq",
        "colab": {
          "base_uri": "https://localhost:8080/"
        },
        "outputId": "bcf39bf1-c02e-411a-a7f5-418cb792fdef"
      },
      "execution_count": null,
      "outputs": [
        {
          "output_type": "stream",
          "name": "stdout",
          "text": [
            "Numero: 23\n",
            "\n",
            "23 é ímpar!\n"
          ]
        }
      ]
    },
    {
      "cell_type": "markdown",
      "metadata": {
        "id": "Q7oTTm6EbaBl"
      },
      "source": [
        "> ### `5.` Criar um programa para ler `2 valores` reais (float) e, caso o primeiro valor seja maior que o segundo, trocar os valores das duas variáveis e mostrar seus resultados."
      ]
    },
    {
      "cell_type": "code",
      "source": [
        "a = float(input('Valor de a: '))\n",
        "b = float(input('\\nValor de b: '))\n",
        "\n",
        "if a > b:\n",
        "    aux = a\n",
        "    a = b\n",
        "    s = aux\n",
        "    print('\\nTrocou ')\n",
        "else:\n",
        "    print('\\nTrocou ')\n",
        "print(f'\\nValor a = {a} \\nValor b = {b} ')\n"
      ],
      "metadata": {
        "id": "DhUztQQs33fM"
      },
      "execution_count": null,
      "outputs": []
    },
    {
      "cell_type": "markdown",
      "metadata": {
        "id": "MX89SPPmZ3qn"
      },
      "source": [
        "> ### `6.` Criar um programa para ler `5 valores` inteiros e, após as leituras, calcular e mostrar a qtde de valores negativos entre os 5 valores.\n",
        "+ ### `Dica`: use um contador."
      ]
    },
    {
      "cell_type": "code",
      "source": [
        "v1 = int(input('Valor 1: '))\n",
        "v2 = int(input('Valor 2: '))\n",
        "v3 = int(input('Valor 3: '))\n",
        "v4 = int(input('Valor 4: '))\n",
        "v5 = int(input('Valor 5: '))\n",
        "qn = 0 #qtde de negativos (contador)\n",
        "if v1 < 0:\n",
        "    qn += 1  #qn = qn + 1\n",
        "if v2 < 0:\n",
        "    qn += 1\n",
        "if v3 < 0:\n",
        "    qn += 1\n",
        "if v4 < 0:\n",
        "    qn += 1\n",
        "if v5 < 0:\n",
        "    qn += 1\n",
        "print(f'\\nQtde de Negativos: {qn}' )"
      ],
      "metadata": {
        "id": "zJEsHt0c9HsT",
        "colab": {
          "base_uri": "https://localhost:8080/"
        },
        "outputId": "7f776c7f-206b-4b5f-ba88-d719108f3ee5"
      },
      "execution_count": null,
      "outputs": [
        {
          "output_type": "stream",
          "name": "stdout",
          "text": [
            "Valor 1: -5\n",
            "Valor 2: -78\n",
            "Valor 3: 6\n",
            "Valor 4: 58\n",
            "Valor 5: -0\n",
            "\n",
            "Qtde de Negativos: 2\n"
          ]
        }
      ]
    },
    {
      "cell_type": "markdown",
      "metadata": {
        "id": "O7jxPzfPgQE3"
      },
      "source": [
        "> ### `7.` Criar um programa para ler a `distância` (em Km) e o `consumo` de combustível (em litros) de um carro ao percorrer um trajeto qualquer. Após as leituras, calcular e mostrar o consumo médio (em Km/litro) do carro e um aviso seguinto a tabela abaixo:\n",
        "Consumo Médio (Km/litro)|Aviso!\n",
        "-|-\n",
        "Abaixo de 8|Venda o carro!!\n",
        "Entre 8 e 14|Econômico!!\n",
        "Acima de 14|Super econômico!!\n",
        "\n",
        "<br>"
      ]
    },
    {
      "cell_type": "code",
      "source": [
        "di = float(input('Distância KM: '))\n",
        "cc = float(input('\\nConsumo em L: '))\n",
        "cm = di / cc\n",
        "print(f'\\nConsumo médio do veículo= {cm:.1f} km/1')\n",
        "print('\\nAviso: ', end='')\n",
        "if cm < 8:\n",
        "    print('Venda o Carro!!')\n",
        "elif cm <= 14:\n",
        "    print('Econômico!!')\n",
        "else:\n",
        "    print('Super Econômico!!')\n",
        "\n"
      ],
      "metadata": {
        "id": "T-yzGZoh9IK-",
        "colab": {
          "base_uri": "https://localhost:8080/"
        },
        "outputId": "124e8a7f-3bc5-43f1-f86a-7460733fed83"
      },
      "execution_count": null,
      "outputs": [
        {
          "output_type": "stream",
          "name": "stdout",
          "text": [
            "Distância KM: 100\n",
            "\n",
            "Consumo em L: 12\n",
            "\n",
            "Consumo médio do veículo= 8.3 km/1\n",
            "\n",
            "Aviso: Econômico!!\n"
          ]
        }
      ]
    },
    {
      "cell_type": "markdown",
      "metadata": {
        "id": "GLzIwiITgUbB"
      },
      "source": [
        "> ### `8.` Criar um programa para ler a `idade` (em anos) de um nadador e, após a leitura, mostrar sua categoria seguindo a tabela abaixo:\n",
        "Categoria|Idade (em anos)\n",
        "-|-\n",
        "NA|Abaixo de 5\n",
        "Infantil A|5 a 7\n",
        "Infantil B|8 a 10\n",
        "Juvenil A|11 a 14\n",
        "Juvenil B|15 a 18\n",
        "Senior|Acima de 18\n",
        "\n",
        "<br>"
      ]
    },
    {
      "cell_type": "code",
      "source": [
        "id = int(input('Idade em anos: '))\n",
        "\n",
        "if id < 5:\n",
        "    cat = 'NA'\n",
        "elif id <= 7:\n",
        "    cat = 'Infantil A'\n",
        "elif id <= 10:\n",
        "    cat = 'Infantil B'\n",
        "elif id <= 14:\n",
        "    cat = 'Juvenil A'\n",
        "elif id <= 18:\n",
        "    cat = 'Juvenil B'\n",
        "else:\n",
        "    cat = 'Senior'\n",
        "\n",
        "print(f'\\nCategoria: {cat}')"
      ],
      "metadata": {
        "colab": {
          "base_uri": "https://localhost:8080/"
        },
        "outputId": "a536917a-a0ba-46d1-c00b-c65d94f9c96e",
        "id": "JjyEVwAXqYpn"
      },
      "execution_count": null,
      "outputs": [
        {
          "output_type": "stream",
          "name": "stdout",
          "text": [
            "Idade em anos: 10\n",
            "\n",
            "Categoria: Infantil B\n"
          ]
        }
      ]
    },
    {
      "cell_type": "markdown",
      "metadata": {
        "id": "QCW3WOkwNqwt"
      },
      "source": [
        "> ### `9.` Criar um programa para ler `3 valores` inteiros e, após as leituras, mostrá-los em ordem crescente."
      ]
    },
    {
      "cell_type": "code",
      "source": [
        "a = int(input('A: '))\n",
        "b = int(input('\\nB: '))\n",
        "c = int(input('\\nC: '))\n",
        "\n",
        "ca, cb, cc = a, b, c # copiar para não perder os valores originais\n",
        "\n",
        "if ca > cb:\n",
        "    ca, cb = cb, ca\n",
        "if cb > cc:\n",
        "    cb, cc = cc, cb\n",
        "if ca > cb:\n",
        "    ca, cb = cb, ca\n",
        "\n",
        "print(f'\\nOrdem crescente: {ca}, {cb}, {cc}')"
      ],
      "metadata": {
        "id": "2N4xcSvcek7N",
        "colab": {
          "base_uri": "https://localhost:8080/"
        },
        "outputId": "9139282c-0f53-4a75-e013-af291ad0bab4"
      },
      "execution_count": null,
      "outputs": [
        {
          "output_type": "stream",
          "name": "stdout",
          "text": [
            "A: 3\n",
            "\n",
            "B: 2\n",
            "\n",
            "C: 1\n",
            "\n",
            "Ordem crescente: 1, 2, 3\n"
          ]
        }
      ]
    },
    {
      "cell_type": "markdown",
      "metadata": {
        "id": "cZHJxKEzhUN4"
      },
      "source": [
        "> ### `10.` Criar um programa para ler `3 valores` reais (float) e, após as leituras, verificar se os valores podem ou não formar um triângulo. Caso formem um triângulo, mostrar qual o seu tipo.\n",
        "- ### `Regra para formar um triângulo`: cada um dos lados deve ser menor que a soma dos outros dois lados.\n",
        "- ### Tipos: **`equilátero`** (3 lados iguais), **`isósceles`** (apenas 2 lados iguais) ou **`escaleno`** (3 lados diferentes)."
      ]
    },
    {
      "cell_type": "code",
      "source": [
        "a = float(input('Lado A: '))\n",
        "b = float(input('\\nLado B: '))\n",
        "c = float(input('\\nLado C: '))\n",
        "\n",
        "if a < b + c and b < a + c and c < a + b:\n",
        "    if a == b and b == c:\n",
        "        print('\\nTriângulo Equilátero!')\n",
        "    elif a == b or a == c or b == c:\n",
        "        print('\\nTriângulo Isósceles!')\n",
        "    else:\n",
        "        print('\\nTriângulo Escaleno!')\n",
        "else:\n",
        "    print('\\nNão formam um triângulo!')"
      ],
      "metadata": {
        "id": "SrEDCYfpen8N"
      },
      "execution_count": null,
      "outputs": []
    },
    {
      "cell_type": "markdown",
      "metadata": {
        "id": "_kvWu9Dify20"
      },
      "source": [
        "> ### `11.` Criar um programa para ler a `idade` e o `tempo` de serviço de um trabalhador (em anos) e, após as leituras, mostrar uma mensagem informando se ele pode ou não se aposentar. As condições para aposentadoria são:\n",
        "+ ### Ter pelo menos 65 anos de idade.\n",
        "+ ### Ou ter trabalhado pelo menos 30 anos.\n",
        "+ ### Ou ter pelo menos 60 anos de idade e ter trabalhado pelo menos 25 anos."
      ]
    },
    {
      "cell_type": "code",
      "source": [
        "id = int(input('Idade (em anos) '))\n",
        "tp = int(input('Tempo (em anos) '))\n",
        "if id >= 65 or tp >= 30 or (id >= 60 and tp >= 25):\n",
        "    print('\\nAposenta!!')\n",
        "else:\n",
        "    print('\\nNão Aposenta!!' )"
      ],
      "metadata": {
        "id": "1xAsU9TCCqHm",
        "colab": {
          "base_uri": "https://localhost:8080/"
        },
        "outputId": "cd979333-865a-4fc2-d52c-d626fc769f47"
      },
      "execution_count": null,
      "outputs": [
        {
          "output_type": "stream",
          "name": "stdout",
          "text": [
            "Idade (em anos) 50\n",
            "Tempo (em anos) 30\n",
            "\n",
            "Aposenta!!\n"
          ]
        }
      ]
    },
    {
      "cell_type": "markdown",
      "metadata": {
        "id": "EbSgSEG2tXrP"
      },
      "source": [
        "> ### `12.` Criar um programa para ler a `altura` (m) e o `peso` (Kg) de uma pessoa e, após as leituras, mostrar a classificação dessa pessoa através da tabela abaixo:\n",
        "Altura||Peso||\n",
        ":-:|:-:|:-:|:-:\n",
        "|Até 60|Entre 60 e 90 (inclusive)|Acima de 90\n",
        "Abaixo de 1,2|A|D|G\n",
        "De 1,2 a 1,7|B|E|H\n",
        "Acima de 1,7|C|F|I\n",
        "\n",
        "<br>"
      ]
    },
    {
      "cell_type": "code",
      "source": [],
      "metadata": {
        "id": "Hs3DRtTqCqul"
      },
      "execution_count": null,
      "outputs": []
    },
    {
      "cell_type": "markdown",
      "metadata": {
        "id": "UhvXxsQisP6o"
      },
      "source": [
        "> ### `11.` Criar um programa para ler a `idade` e o `tempo` de serviço de um trabalhador (em anos) e, após as leituras, mostrar uma mensagem informando se ele pode ou não se aposentar. As condições para aposentadoria são:\n",
        "+ ### Ter pelo menos 65 anos de idade.\n",
        "+ ### Ou ter trabalhado pelo menos 30 anos.\n",
        "+ ### Ou ter pelo menos 60 anos de idade e ter trabalhado pelo menos 25 anos."
      ]
    },
    {
      "cell_type": "code",
      "source": [
        "id = int(input('Idade (em anos) '))\n",
        "tp = int(input('Tempo (em anos) '))\n",
        "if id <= 65 or tp <= 30 (id <= 60 and tp <= 25)\n",
        "    print('\\nAposenta!!')\n",
        "else\n",
        "    print('\\nNão Aposenta!!' )"
      ],
      "metadata": {
        "id": "_b5bYoGGsP6q"
      },
      "execution_count": null,
      "outputs": []
    },
    {
      "cell_type": "markdown",
      "metadata": {
        "id": "sii_eyTvsP6r"
      },
      "source": [
        "> ### `12.` Criar um programa para ler a `altura` (m) e o `peso` (Kg) de uma pessoa e, após as leituras, mostrar a classificação dessa pessoa através da tabela abaixo:\n",
        "Altura||Peso||\n",
        ":-:|:-:|:-:|:-:\n",
        "|Até 60|Entre 60 e 90 (inclusive)|Acima de 90\n",
        "Abaixo de 1,2|A|D|G\n",
        "De 1,2 a 1,7|B|E|H\n",
        "Acima de 1,7|C|F|I\n",
        "\n",
        "<br>"
      ]
    },
    {
      "cell_type": "code",
      "source": [
        "alt = float(input('Altura (m): '))\n",
        "peso = float(input('\\nPeso (Kg): '))\n",
        "if alt < 1.2:\n",
        "    if peso <= 60:\n",
        "        cla = 'A'\n",
        "    elif peso <= 90:\n",
        "        cla = 'D'\n",
        "    else:\n",
        "        cla = 'G'\n",
        "elif alt <= 1.7:\n",
        "    if peso <= 60:\n",
        "        cla = 'B'\n",
        "    elif peso <= 90:\n",
        "        cla = 'E'\n",
        "    else:\n",
        "        cla = 'H'\n",
        "else:\n",
        "    if peso <= 60:\n",
        "        cla = 'C'\n",
        "    elif peso <= 90:\n",
        "        cla = 'F'\n",
        "    else:\n",
        "        cla = 'I'\n",
        "print(f'\\nClassificação: {cla}')"
      ],
      "metadata": {
        "colab": {
          "base_uri": "https://localhost:8080/"
        },
        "outputId": "acfcb37d-bb8b-4e41-f06d-c052cbcc311d",
        "id": "9gpWG250sUKZ"
      },
      "execution_count": null,
      "outputs": [
        {
          "output_type": "stream",
          "name": "stdout",
          "text": [
            "Altura (m): 1.8\n",
            "\n",
            "Peso (Kg): 85\n",
            "\n",
            "Classificação: F\n"
          ]
        }
      ]
    },
    {
      "cell_type": "markdown",
      "metadata": {
        "id": "7rOmG_Y0tcU3"
      },
      "source": [
        "> ### `13.` Criar um programa para ler `2 valores` reais (float) e, após as leituras, mostrar o menu de opções mostrado abaixo e ler a `escolha` do usuário. Após a escolha, calcular e mostrar o resultado da operação selecionada. Caso a opção escolhida seja inválida, mostrar uma mensagem ao usuário.\n",
        "### Exemplo de execução:\n",
        "    Opções:\n",
        "    1. Soma dos dois valores.\n",
        "    2. Diferença dos dois valores (maior - menor).\n",
        "    3. Multiplicação dos dois valores.\n",
        "    4. Divisão dos dois valores (1º pelo 2º).\n",
        "    Escolha:\n"
      ]
    },
    {
      "cell_type": "code",
      "source": [
        "v1 = float(input('Valor 1: '))\n",
        "v2 = float(input('\\nValor 2: '))\n",
        "print('\\nOpções:')\n",
        "print('1 - Soma dos dois valores.')\n",
        "print('2 - Diferença dos dois valores (maior - menor).')\n",
        "print('3 - Multiplicação dos dois valores.')\n",
        "print('4 - Divisão dos dois valores (1º pelo 2º).')\n",
        "op = int(input('Escolha: '))\n",
        "match op:\n",
        "    case 1:\n",
        "        soma = v1 + v2\n",
        "        print(f'\\nSoma = {v1} + {v2} = {soma}')\n",
        "    case 2:\n",
        "        if v1 < v2:\n",
        "            v1, v2 = v2, v1 # troca o valor de v1 com v2, se v1 for menor que v2\n",
        "        dif = v1 - v2\n",
        "        print(f'\\nDiferença = {v1} - {v2} = {dif}')\n",
        "    case 3:\n",
        "        mult = v1 * v2\n",
        "        print(f'\\nMultiplicação = {v1} * {v2} = {mult}')\n",
        "    case 4:\n",
        "        div = v1 / v2\n",
        "        print(f'\\nDivisão = {v1} / {v2} = {div}')\n",
        "    case _:\n",
        "        print(f'\\nOpção inválida!!')"
      ],
      "metadata": {
        "colab": {
          "base_uri": "https://localhost:8080/"
        },
        "id": "eCbuEHwrjA4w",
        "outputId": "c10eafaf-4fe7-4895-fca1-2494badde1bb"
      },
      "execution_count": null,
      "outputs": [
        {
          "output_type": "stream",
          "name": "stdout",
          "text": [
            "Valor 1: 5\n",
            "\n",
            "Valor 2: 9\n",
            "\n",
            "Opções:\n",
            "1 - Soma dos dois valores.\n",
            "2 - Diferença dos dois valores (maior - menor).\n",
            "3 - Multiplicação dos dois valores.\n",
            "4 - Divisão dos dois valores (1º pelo 2º).\n",
            "Escolha: 2\n",
            "\n",
            "Diferença = 9.0 - 5.0 = 4.0\n"
          ]
        }
      ]
    },
    {
      "cell_type": "markdown",
      "metadata": {
        "id": "ujqaDA_hlvw6"
      },
      "source": [
        "> ### `14.` Criar um programa para ler uma `data` (dd/mm/aaaa) e, após a leitura, mostrar uma mensagem informando se a data é válida ou inválida."
      ]
    },
    {
      "cell_type": "code",
      "source": [
        "d, m, a = input('Data (dd/mm/aaaa): ').split('/')\n",
        "d, m, a = int(d), int(m), int(a)\n",
        "val = True # val é a variável que indica se a data é válida ou não (flag)\n",
        "if a < 1 or m < 1 or m > 12 or d < 1 or d > 31:\n",
        "    val = False\n",
        "elif (m == 4 or m == 6 or m == 9 or m == 11) and d > 30:\n",
        "    val = False\n",
        "elif m == 2:\n",
        "    if a % 4 == 0: # ano bissexto (múltiplo de 4)\n",
        "        if d > 29:\n",
        "            val = False\n",
        "    elif d > 28: # ano não bissexto\n",
        "        val = False\n",
        "if val:\n",
        "    print('\\nVÁLIDA!!!')\n",
        "else:\n",
        "    print('\\nINVÁLIDA!!!')"
      ],
      "metadata": {
        "colab": {
          "base_uri": "https://localhost:8080/"
        },
        "id": "AlTjG71tAIFM",
        "outputId": "aa8159d4-86d3-4263-8934-349704297cf7"
      },
      "execution_count": null,
      "outputs": [
        {
          "output_type": "stream",
          "name": "stdout",
          "text": [
            "Data (dd/mm/aaaa): 10/10/2023\n",
            "\n",
            "VÁLIDA!!!\n"
          ]
        }
      ]
    },
    {
      "cell_type": "markdown",
      "source": [
        "> ### `15.` Criar um programa para ler uma `data` (dd/mm/aaaa) e, após a leitura, mostrar essa data por extenso.\n",
        "### Ex.: `16/05/2023` será mostrado: `16 de maio de 2023`"
      ],
      "metadata": {
        "id": "TivyMU5LuI_z"
      }
    },
    {
      "cell_type": "code",
      "source": [
        "d, m, a = input('Data (dd/mm/aaaa): ').split('/')\n",
        "d, m, a = int(d), int(m), int(a)\n",
        "if m == 1:\n",
        "    me = 'janeiro'\n",
        "elif m == 2:\n",
        "    me = 'fevereiro'\n",
        "elif m == 3:\n",
        "    me = 'março'\n",
        "elif m == 4:\n",
        "    me = 'abril'\n",
        "elif m == 5:\n",
        "    me = 'maio'\n",
        "elif m == 6:\n",
        "    me = 'junho'\n",
        "elif m == 7:\n",
        "    me = 'julho'\n",
        "elif m == 8:\n",
        "    me = 'agosto'\n",
        "elif m == 9:\n",
        "    me = 'setembro'\n",
        "elif m == 10:\n",
        "    me = 'outubro'\n",
        "elif m == 11:\n",
        "    me = 'novembro'\n",
        "elif m == 12:\n",
        "    me = 'dezembro'\n",
        "\n",
        "\n",
        "print(f'\\nData: {d} de {me} de {a}' )"
      ],
      "metadata": {
        "colab": {
          "base_uri": "https://localhost:8080/"
        },
        "outputId": "c6e00d28-529d-4bd1-c6d5-2ad8e6aff040",
        "id": "OauR79JgvbFj"
      },
      "execution_count": null,
      "outputs": [
        {
          "output_type": "stream",
          "name": "stdout",
          "text": [
            "Data (dd/mm/aaaa): 02/06/2005\n",
            "\n",
            "Data: 2 de junho de 2005\n"
          ]
        }
      ]
    },
    {
      "cell_type": "code",
      "source": [
        "n = int(input('Digite um numero: '))\n",
        "if n % 2 == 0:\n",
        "    print('\\nNumero par!! ')\n",
        "if n % 3 == 0:\n",
        "    print('\\nNumero impar!!')\n",
        "else:\n",
        "    print('\\nNumero primo!!')\n",
        "\n"
      ],
      "metadata": {
        "colab": {
          "base_uri": "https://localhost:8080/"
        },
        "outputId": "e11a7626-979c-4642-e10c-49ee1e9566c3",
        "id": "sqaT_b8qF1ne"
      },
      "execution_count": null,
      "outputs": [
        {
          "output_type": "stream",
          "name": "stdout",
          "text": [
            "Digite um numero: 7\n",
            "\n",
            "Numero primo!!\n"
          ]
        }
      ]
    },
    {
      "cell_type": "code",
      "source": [
        "\n",
        "a = int(input('Numero impar: '))\n",
        "b = int(input('\\nNumero impar: '))\n",
        "if a % 2 == 0:\n",
        "    a = 0\n",
        "if b % 2 == 0:\n",
        "    b = 0\n",
        "\n",
        "\n",
        "\n",
        "print(f'\\nValor da soma: {a + b}')\n",
        "\n",
        "\n"
      ],
      "metadata": {
        "colab": {
          "base_uri": "https://localhost:8080/"
        },
        "id": "W62JxoJ_fRpp",
        "outputId": "e6f83b48-7dcd-46e2-dd5c-8a05cd3039d6"
      },
      "execution_count": null,
      "outputs": [
        {
          "output_type": "stream",
          "name": "stdout",
          "text": [
            "Numero impar: 2\n",
            "\n",
            "Numero impar: 3\n",
            "\n",
            "Valor da soma: 3\n"
          ]
        }
      ]
    },
    {
      "cell_type": "code",
      "source": [
        "p = float(input('Nota primeiro bimestre: '))\n",
        "s = float(input('\\nNota segundo bimestre: '))\n",
        "t = float(input('\\nNota terceiro bimestre: '))\n",
        "q = float(input('\\nNota quarto bimestre: '))\n",
        "print(f'\\nMedia: {p / 4 + s / 4 + t / 4 + q / 4}' )"
      ],
      "metadata": {
        "colab": {
          "base_uri": "https://localhost:8080/"
        },
        "outputId": "55e280a9-40d9-49c8-da59-1d7b88fed21b",
        "id": "AWqNcng279wP"
      },
      "execution_count": null,
      "outputs": [
        {
          "output_type": "stream",
          "name": "stdout",
          "text": [
            "Nota primeiro bimestre: 5\n",
            "\n",
            "Nota segundo bimestre: 6\n",
            "\n",
            "Nota terceiro bimestre: 7\n",
            "\n",
            "Nota quarto bimestre: 8\n",
            "\n",
            "Media: 6.5\n"
          ]
        }
      ]
    },
    {
      "cell_type": "markdown",
      "metadata": {
        "id": "_BGshMO2gS7c"
      },
      "source": [
        "> # **`Técnicas de Desenvolvimento de Algoritmos`**\n",
        "> ### **Ciência da Computação - 2º semestre**\n",
        "---\n",
        "---"
      ]
    },
    {
      "cell_type": "markdown",
      "metadata": {
        "id": "_T3eTBmghImC"
      },
      "source": [
        "> # **Revisão:**\n",
        "---\n",
        "---\n",
        "+ ## Estrutura lógica sequencial (bloco de comandos).\n",
        "    + ### Variáveis e Comandos de Entrada e Saída de dados.\n",
        "    + ### Comando de atribuição, cálculos e funções matemáticas.\n",
        "+ ## Estrutura lógica condicional (simples e composta).\n",
        "    + ### Operadores relacionais e operadores lógicos."
      ]
    },
    {
      "cell_type": "markdown",
      "metadata": {
        "id": "ylzwPZhKiizU"
      },
      "source": [
        "> ## **Estrutura lógica sequencial (bloco de comandos)**:\n",
        "---\n",
        "+ ### Variáveis:\n",
        "    + #### Regra para nomes de variáveis: `letra ou _, seguido ou não de letras, dígitos ou _`."
      ]
    },
    {
      "cell_type": "code",
      "metadata": {
        "id": "J-DHldHOisX3"
      },
      "source": [
        "a = 10\n",
        "b = 20\n",
        "soma = a + b\n",
        "print('Soma =', soma)"
      ],
      "execution_count": null,
      "outputs": []
    },
    {
      "cell_type": "markdown",
      "metadata": {
        "id": "8zje4UbeWowz"
      },
      "source": [
        "> ### **Operadores matemáticos:**\n",
        "---\n",
        "\n",
        "+ ### Adição: `+`\n",
        "+ ### Subtração: `-`\n",
        "+ ### Multiplicação: `*`\n",
        "+ ### Divisão: `/`\n",
        "+ ### Resto da divisão: `%`\n",
        "+ ### Quociente da divisão: `//`\n",
        "+ ### Potência: `**`"
      ]
    },
    {
      "cell_type": "code",
      "metadata": {
        "id": "s-iaYWwEXVOO"
      },
      "source": [
        "print(5 + 7)\n",
        "print(5 - 9)\n",
        "print(3 * 6)\n",
        "print(5 / 2)\n",
        "print(11 % 3)\n",
        "print(11 // 3)\n",
        "print(2 ** 10)"
      ],
      "execution_count": null,
      "outputs": []
    },
    {
      "cell_type": "markdown",
      "metadata": {
        "id": "t9ggSmiXZCNj"
      },
      "source": [
        "> ### `Exemplo`: calcular e mostrar a área de um retângulo, onde o usuário fornece os lados.\n",
        "---"
      ]
    },
    {
      "cell_type": "code",
      "metadata": {
        "id": "tXJC_YCbZZb1"
      },
      "source": [
        "# área de um retângulo\n",
        "\n",
        "lado1 = float(input('Lado 1 (m): '))  # entrada\n",
        "lado2 = float(input('\\nLado 2 (m): '))  # entrada\n",
        "area = lado1 * lado2\n",
        "print(f'\\nÁrea do retângulo = {lado1:.2f} x {lado2:.2f} = {area:.2f} m²')  # saída"
      ],
      "execution_count": null,
      "outputs": []
    },
    {
      "cell_type": "markdown",
      "metadata": {
        "id": "GKgUoKGZgv6Z"
      },
      "source": [
        "> ### **Funções matemáticas:**\n",
        "---\n",
        "+ ### Módulo (biblioteca) `math` (import)."
      ]
    },
    {
      "cell_type": "markdown",
      "metadata": {
        "id": "LFTGWHiOx2l8"
      },
      "source": [
        "> ### `Exemplos`:"
      ]
    },
    {
      "cell_type": "code",
      "metadata": {
        "id": "TP8zfuush-EF"
      },
      "source": [
        "# Exemplo de cálculo da hipotenusa de um triângulo retângulo\n",
        "\n",
        "from math import sqrt # use 'import math' para importar o módulo inteiro\n",
        "\n",
        "ca = float(input('Cateto A: '))\n",
        "cb = float(input('\\nCateto B: '))\n",
        "hi = sqrt(ca ** 2 + cb ** 2)  # Ou ainda: (ca ** 2 + cb ** 2) ** 0.5\n",
        "print(f'\\nHipotenusa = {hi:.3f}')"
      ],
      "execution_count": null,
      "outputs": []
    },
    {
      "cell_type": "code",
      "metadata": {
        "id": "PnP4Gc9wl8KZ"
      },
      "source": [
        "# Exemplo de cálculo do seno de um ângulo em graus\n",
        "\n",
        "from math import sin, radians\n",
        "\n",
        "ang = float(input('Ângulo (graus): '))\n",
        "seno = sin(radians(ang))  # ou converter usando a fórmula: ang * 3.14 / 180\n",
        "print(f'\\nSeno de {ang:.1f}° = {seno:.3f}')\n"
      ],
      "execution_count": null,
      "outputs": []
    },
    {
      "cell_type": "code",
      "metadata": {
        "colab": {
          "base_uri": "https://localhost:8080/"
        },
        "id": "N8Tsvlgurm4D",
        "outputId": "5f0ccf79-ed1b-4af5-96f3-4601fd8d753f"
      },
      "source": [
        "if False:\n",
        "    print(1)\n",
        "else:\n",
        "    if False:\n",
        "        print(2)\n",
        "    else:\n",
        "        if True:\n",
        "            print(3)\n",
        "        else:\n",
        "            print(4)"
      ],
      "execution_count": null,
      "outputs": [
        {
          "output_type": "stream",
          "name": "stdout",
          "text": [
            "3\n"
          ]
        }
      ]
    }
  ],
  "metadata": {
    "colab": {
      "provenance": [],
      "authorship_tag": "ABX9TyMPYfXCvhD/VouJPUvwhmhp",
      "include_colab_link": true
    },
    "kernelspec": {
      "display_name": "Python 3",
      "name": "python3"
    },
    "language_info": {
      "name": "python"
    }
  },
  "nbformat": 4,
  "nbformat_minor": 0
}